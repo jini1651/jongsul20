{
  "nbformat": 4,
  "nbformat_minor": 0,
  "metadata": {
    "colab": {
      "name": "Colaboratory에 오신 것을 환영합니다의 사본",
      "provenance": [],
      "collapsed_sections": [],
      "include_colab_link": true
    },
    "kernelspec": {
      "display_name": "Python 3",
      "name": "python3"
    }
  },
  "cells": [
    {
      "cell_type": "markdown",
      "metadata": {
        "id": "view-in-github",
        "colab_type": "text"
      },
      "source": [
        "<a href=\"https://colab.research.google.com/github/jini1651/jongsul20/blob/main/Colaboratory%EC%97%90_%EC%98%A4%EC%8B%A0_%EA%B2%83%EC%9D%84_%ED%99%98%EC%98%81%ED%95%A9%EB%8B%88%EB%8B%A4%EC%9D%98_%EC%82%AC%EB%B3%B8.ipynb\" target=\"_parent\"><img src=\"https://colab.research.google.com/assets/colab-badge.svg\" alt=\"Open In Colab\"/></a>"
      ]
    },
    {
      "cell_type": "code",
      "metadata": {
        "id": "Rtt8JiOmyQz0",
        "colab": {
          "base_uri": "https://localhost:8080/"
        },
        "outputId": "7c25a833-e871-4223-c5a1-d2e3ff8cafda"
      },
      "source": [
        "from google.colab import drive\r\n",
        "drive.mount('/content/drive')"
      ],
      "execution_count": 47,
      "outputs": [
        {
          "output_type": "stream",
          "text": [
            "Drive already mounted at /content/drive; to attempt to forcibly remount, call drive.mount(\"/content/drive\", force_remount=True).\n"
          ],
          "name": "stdout"
        }
      ]
    },
    {
      "cell_type": "code",
      "metadata": {
        "id": "qwNRpeb4yrot",
        "colab": {
          "base_uri": "https://localhost:8080/"
        },
        "outputId": "68d6d011-29e2-4efb-fb8a-a775d97a1e6a"
      },
      "source": [
        "!pip install pefile"
      ],
      "execution_count": 48,
      "outputs": [
        {
          "output_type": "stream",
          "text": [
            "Requirement already satisfied: pefile in /usr/local/lib/python3.6/dist-packages (2019.4.18)\n",
            "Requirement already satisfied: future in /usr/local/lib/python3.6/dist-packages (from pefile) (0.16.0)\n"
          ],
          "name": "stdout"
        }
      ]
    },
    {
      "cell_type": "code",
      "metadata": {
        "id": "qRo4qIVxyrxd"
      },
      "source": [
        "import os\r\n",
        "from PIL import Image\r\n",
        "import pefile\r\n",
        "import csv"
      ],
      "execution_count": 49,
      "outputs": []
    },
    {
      "cell_type": "code",
      "metadata": {
        "id": "CQ6OKQo2yyhh"
      },
      "source": [
        "def getAddressfromPE(filename):\r\n",
        "    startAddress_t, endAddress_t = 0, 0;\r\n",
        "    startAddress_d, endAddress_d = 0, 0;\r\n",
        "    startAddress_i, endAddress_i = 0, 0;\r\n",
        "    startAddress_e, endAddress_e = 0, 0;\r\n",
        "\r\n",
        "    try:\r\n",
        "        pe = pefile.PE(filename)\r\n",
        "\r\n",
        "        for section in pe.sections:\r\n",
        "            if \".text\" in str(section.Name):\r\n",
        "                startAddress_t = section.VirtualAddress\r\n",
        "                endAddress_t = section.next_section_virtual_address\r\n",
        "            if \".data\" in str(section.Name):\r\n",
        "                startAddress_d = section.VirtualAddress\r\n",
        "                endAddress_d = section.next_section_virtual_address\r\n",
        "            if \".idata\" in str(section.Name):\r\n",
        "                startAddress_i = section.VirtualAddress\r\n",
        "                endAddress_i = section.next_section_virtual_address\r\n",
        "            if \".edata\" in str(section.Name):\r\n",
        "                startAddress_e = section.VirtualAddress\r\n",
        "                endAddress_e = section.next_section_virtual_address\r\n",
        "\r\n",
        "            break\r\n",
        "    except pefile.PEFormatError:\r\n",
        "        pass\r\n",
        "    return startAddress_t, endAddress_t, startAddress_d, endAddress_d, startAddress_i, endAddress_i, startAddress_e, endAddress_e"
      ],
      "execution_count": 50,
      "outputs": []
    },
    {
      "cell_type": "code",
      "metadata": {
        "id": "-RIUuyRHy4hY"
      },
      "source": [
        "def getBinaryData_t(filename, start, end):\r\n",
        "    binaryValues = []\r\n",
        "    file = open(filename, \"rb\")\r\n",
        "    file.seek(start)\r\n",
        "    data = file.read(1)\r\n",
        "    i=0\r\n",
        "    while i<65536: #256*256\r\n",
        "        try:\r\n",
        "          if data != b\"\" and file.tell() != end : \r\n",
        "            binaryValues.append(ord(data))\r\n",
        "          else : \r\n",
        "            binaryValues.append(0)\r\n",
        "        except TypeError:\r\n",
        "            pass\r\n",
        "        data = file.read(1)\r\n",
        "        i=i+1\r\n",
        "        \r\n",
        "\r\n",
        "    print(\"'.text' data is produced.\")\r\n",
        "\r\n",
        "    return binaryValues"
      ],
      "execution_count": 51,
      "outputs": []
    },
    {
      "cell_type": "code",
      "metadata": {
        "id": "Xj2lZ0zH5MRM"
      },
      "source": [
        "def getBinaryData_d(filename, start, end):\r\n",
        "    binaryValues = []\r\n",
        "    file = open(filename, \"rb\")\r\n",
        "    file.seek(start)\r\n",
        "    data = file.read(1)\r\n",
        "    i=0\r\n",
        "    while i<65536: #256*256\r\n",
        "        try:\r\n",
        "          if data != b\"\" and file.tell() != end :\r\n",
        "            binaryValues.append(ord(data))\r\n",
        "          else : \r\n",
        "            binaryValues.append(0)\r\n",
        "        except TypeError:\r\n",
        "            pass\r\n",
        "        data = file.read(1)\r\n",
        "        i=i+1\r\n",
        "\r\n",
        "    print(\"'.data' data is produced.\")\r\n",
        "    \r\n",
        "    return binaryValues"
      ],
      "execution_count": 52,
      "outputs": []
    },
    {
      "cell_type": "code",
      "metadata": {
        "id": "N-L_wk2Uy6g3"
      },
      "source": [
        "def getBinaryData_ie(filename, start1, end1, start2, end2):\r\n",
        "  binaryValues = []\r\n",
        "  file = open(filename, \"rb\")\r\n",
        "  file.seek(start1)\r\n",
        "  data = file.read(1)\r\n",
        "\r\n",
        "  i=0\r\n",
        "  while  i<32768: #128*256\r\n",
        "    try:\r\n",
        "      if data != b\"\" and file.tell() != end1 :\r\n",
        "        binaryValues.append(ord(data))\r\n",
        "      else :\r\n",
        "         binaryValues.append(0)\r\n",
        "    except TypeError:\r\n",
        "      pass\r\n",
        "    data = file.read(1)\r\n",
        "    i=i+1\r\n",
        "\r\n",
        "  i=0\r\n",
        "  file.seek(start2)\r\n",
        "  data = file.read(1)\r\n",
        "  while  i<32768: #128*256\r\n",
        "    try:\r\n",
        "      if data != b\"\" and file.tell() != end1 :\r\n",
        "        binaryValues.append(ord(data))\r\n",
        "      else :\r\n",
        "         binaryValues.append(0)\r\n",
        "    except TypeError:\r\n",
        "      pass\r\n",
        "    data = file.read(1)\r\n",
        "    i=i+1\r\n",
        "\r\n",
        "  print(\".'idata' and '.edata' are produced.\")\r\n",
        "\r\n",
        "  return binaryValues"
      ],
      "execution_count": 59,
      "outputs": []
    },
    {
      "cell_type": "code",
      "metadata": {
        "id": "eEgLCQWVgVZs"
      },
      "source": [
        "def createImage(dataSet_t,dataSet_d,dataSet_ie,outputfilename):\r\n",
        "    size = len(dataSet_t)\r\n",
        "    width = 256\r\n",
        "\r\n",
        "    height = int(size / width) + 1\r\n",
        "    image = Image.new(\"RGB\", (width, height))\r\n",
        "    data=list(zip(dataSet_t,dataSet_d,dataSet_ie))\r\n",
        "    image.putdata(data)\r\n",
        "    #image=image.resize((256,256))\r\n",
        "\r\n",
        "    imagename = outputfilename + \".png\"\r\n",
        "    image.save(imagename)\r\n",
        "    image.show()\r\n",
        "    print(imagename+\" image created\")"
      ],
      "execution_count": 56,
      "outputs": []
    },
    {
      "cell_type": "code",
      "metadata": {
        "colab": {
          "base_uri": "https://localhost:8080/"
        },
        "id": "8o8J9sMI04F1",
        "outputId": "af929985-23f1-41cd-fd2e-9e14d8c7492e"
      },
      "source": [
        "if __name__ == \"__main__\":\r\n",
        "    files_path = \"/content/drive/MyDrive/test/file\"  # vir 파일 폴더 경로\r\n",
        "    cnt = 0\r\n",
        "\r\n",
        "    for file in os.listdir(files_path):\r\n",
        "        path = os.path.dirname(file)\r\n",
        "        base_name = os.path.splitext(os.path.basename(file))[0]\r\n",
        "\r\n",
        "        outputFilename = \"/content/drive/MyDrive/test/image/\" + base_name   \r\n",
        "        print(outputFilename)\r\n",
        "        \r\n",
        "        startAddr_t, endAddr_t, startAddr_d, endAddr_d, startAddr_i, endAddr_i, startAddr_e, endAddr_e = getAddressfromPE(files_path + \"/\" + file)\r\n",
        "        print(startAddr_t, endAddr_t, startAddr_d, endAddr_d, startAddr_i, endAddr_i, startAddr_e, endAddr_e)\r\n",
        "\r\n",
        "        if endAddr_t != 0:\r\n",
        "            binaryData_t = getBinaryData_t(files_path + \"/\" + file, startAddr_t, endAddr_t)\r\n",
        "            binaryData_d = getBinaryData_d(files_path + \"/\" + file, startAddr_d, endAddr_d)\r\n",
        "            binaryData_ie = getBinaryData_ie(files_path + \"/\" + file, startAddr_i, endAddr_i, startAddr_e, endAddr_e)\r\n",
        "            createImage(binaryData_t, binaryData_d, binaryData_ie, outputFilename)"
      ],
      "execution_count": 61,
      "outputs": [
        {
          "output_type": "stream",
          "text": [
            "/content/drive/MyDrive/test/image/ffd11443a9cbe44f01d097bc996487f9\n",
            "8192 851968 0 0 0 0 0 0\n",
            "'.text' data is produced.\n",
            "'.data' data is produced.\n",
            ".'idata' and '.edata' are produced.\n",
            "/content/drive/MyDrive/test/image/ffd11443a9cbe44f01d097bc996487f9.png image created\n",
            "/content/drive/MyDrive/test/image/ffed7c7e4edb6fc07348d67484283d75\n",
            "0 0 0 0 0 0 0 0\n",
            "/content/drive/MyDrive/test/image/ffeae3bebcaf5e3da783b299d794b99f\n",
            "4096 696320 0 0 0 0 0 0\n",
            "'.text' data is produced.\n",
            "'.data' data is produced.\n",
            ".'idata' and '.edata' are produced.\n",
            "/content/drive/MyDrive/test/image/ffeae3bebcaf5e3da783b299d794b99f.png image created\n",
            "/content/drive/MyDrive/test/image/fff8ef9b45bbcb8aca7cb6acdef7d4ba\n",
            "0 0 0 0 0 0 0 0\n"
          ],
          "name": "stdout"
        }
      ]
    },
    {
      "cell_type": "code",
      "metadata": {
        "id": "HGLrsq4czCxg"
      },
      "source": [
        "if __name__ == \"__main__\":\r\n",
        "    files_path = \"/content/drive/MyDrive/test/file/\"  # vir 파일 폴더 경로\r\n",
        "    cnt = 0\r\n",
        "\r\n",
        "    for file in os.listdir(files_path):\r\n",
        "        cnt += 1\r\n",
        "        path = os.path.dirname(file)\r\n",
        "        base_name = os.path.splitext(os.path.basename(file))[0]\r\n",
        "\r\n",
        "        train_csv = \"E:/trainSet\" # csv 파일 경로\r\n",
        "        datas = csv.reader(train_csv)\r\n",
        "\r\n",
        "        if cnt % 10 == 0:\r\n",
        "            for data in datas:\r\n",
        "                if data[0] == file:\r\n",
        "                    if data[1] == '0':\r\n",
        "                        outputFilename = \"E:/testImg\" + \"/valid/benign/\" + base_name  # 저장할 폴더 경로\r\n",
        "                    elif data[1] == '1':\r\n",
        "                        outputFilename = \"E:/testImg\" + \"/valid/malware/\" + base_name\r\n",
        "                    break\r\n",
        "        else:\r\n",
        "            for data in datas:\r\n",
        "                if data[0] == file:\r\n",
        "                    if data[1] == '0':\r\n",
        "                        outputFilename = \"E:/testImg\" + \"/train/benign/\" + base_name\r\n",
        "                    elif data[1] == '1':\r\n",
        "                        outputFilename = \"E:/testImg\" + \"/train/malware/\" + base_name\r\n",
        "                    break\r\n",
        "        train_csv.close()\r\n",
        "\r\n",
        "        startAddr_t, endAddr_t, startAddr_d, endAddr_d, startAddr_i, endAddr_i, startAddr_e, endAddr_e = getAddressfromPE(files_path + \"/\" + file)\r\n",
        "\r\n",
        "        if endAddr_t != 0:\r\n",
        "            binaryData_t = getBinaryData(files_path + \"/\" + file, startAddr_t, endAddr_t)\r\n",
        "            binaryData_d = getBinaryData(files_path + \"/\" + file, startAddr_d, endAddr_d)\r\n",
        "            binaryData_ie = getBinaryData(files_path + \"/\" + file, startAddr_i, endAddr_i, startAddr_e, endAddr_e)\r\n",
        "            createImage(binaryData_t, binaryData_d, binaryData_ie, outputFilename)\r\n",
        "\r\n",
        "        if cnt % 100 == 0:\r\n",
        "            print(cnt, \" files created!\")"
      ],
      "execution_count": null,
      "outputs": []
    },
    {
      "cell_type": "code",
      "metadata": {
        "id": "x1NLjXsvAxsb"
      },
      "source": [
        "def createImage(dataSet_t,dataSet_d,dataSet_ie,outputfilename):\r\n",
        "    size = len(dataSet_t)+len(dataSet_d)+len(dataSet_ie)\r\n",
        "    width = 256\r\n",
        "\r\n",
        "    height = int(size / width) + 1\r\n",
        "    image = Image.new(\"RGB\", (width, height))\r\n",
        "    for data in dataSet_t :\r\n",
        "      image.putdata(data)\r\n",
        "    for data in dataSet_d :\r\n",
        "      image.putdata(data)\r\n",
        "    for data in dataSet_ie :\r\n",
        "      image.putdata(data)\r\n",
        "    image = image.resize((256, 256))\r\n",
        "\r\n",
        "    imagename = outputfilename + \".png\"\r\n",
        "    image.save(imagename)\r\n",
        "    image.show()"
      ],
      "execution_count": null,
      "outputs": []
    },
    {
      "cell_type": "code",
      "metadata": {
        "id": "uBVwljScy9FZ"
      },
      "source": [
        "def createImage(dataSet_t,dataSet_d,dataSet_ie,outputfilename):\r\n",
        "    size = len(dataSet_t)\r\n",
        "    width = 256\r\n",
        "\r\n",
        "    height = int(size / width) + 1\r\n",
        "    image = Image.new('RGBA', (width, height))\r\n",
        "    data=dataSet_t\r\n",
        "    data.append(dataSet_d)\r\n",
        "    data.append(dataSet_ie)\r\n",
        "    image.putdata(data)\r\n",
        "    image = image.resize((256, 256))\r\n",
        "\r\n",
        "    imagename = outputfilename + \".png\"\r\n",
        "    image.save(imagename)\r\n",
        "    image.show()\r\n",
        "    print(imagename+\" image created\")"
      ],
      "execution_count": 55,
      "outputs": []
    }
  ]
}